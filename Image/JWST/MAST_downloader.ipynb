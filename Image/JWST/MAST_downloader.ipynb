{
  "nbformat": 4,
  "nbformat_minor": 0,
  "metadata": {
    "colab": {
      "provenance": []
    },
    "kernelspec": {
      "name": "python3",
      "display_name": "Python 3"
    },
    "language_info": {
      "name": "python"
    }
  },
  "cells": [
    {
      "cell_type": "code",
      "execution_count": 1,
      "metadata": {
        "id": "X-uyxi_cmk3z"
      },
      "outputs": [],
      "source": [
        "import sys # Python version retriever\n",
        "import os # file management\n",
        "import json # Java Script Object Notation parsing and dumping, basically working with dictionaries\n",
        "\n",
        "import requests # Content download from urls\n",
        "from urllib.parse import quote as urlencode # deciphering and creating url\n",
        "\n",
        "from astropy.table import Table # creating loading editing AstroPy Tables (a specifically-modified Pandas DataFrame)\n",
        "import numpy as np # Numerical Python, basically for everything of matrix operations and calculations\n",
        "\n",
        "import pprint # Pretty printing to work around limitations of base print() function\n",
        "pp = pprint.PrettyPrinter(indent=4)"
      ]
    },
    {
      "cell_type": "code",
      "source": [
        "def mast_query(request):\n",
        "    \"\"\"Perform a MAST query.\n",
        "\n",
        "        Parameters\n",
        "        ----------\n",
        "        request (dictionary): The MAST request json object\n",
        "\n",
        "        Returns head,content where head is the response HTTP headers, and content is the returned data\"\"\"\n",
        "\n",
        "    # Base API url\n",
        "    request_url='https://mast.stsci.edu/api/v0/invoke'\n",
        "\n",
        "    # Grab Python Version\n",
        "    version = \".\".join(map(str, sys.version_info[:3]))\n",
        "\n",
        "    # Create Http Header Variables\n",
        "    headers = {\"Content-type\": \"application/x-www-form-urlencoded\",\n",
        "               \"Accept\": \"text/plain\",\n",
        "               \"User-agent\":\"python-requests/\"+version}\n",
        "\n",
        "    # Encoding the request as a json string\n",
        "    req_string = json.dumps(request)\n",
        "    req_string = urlencode(req_string)\n",
        "\n",
        "    # Perform the HTTP request\n",
        "    resp = requests.post(request_url, data=\"request=\"+req_string, headers=headers)\n",
        "\n",
        "    # Pull out the headers and response content\n",
        "    head = resp.headers\n",
        "    content = resp.content.decode('utf-8')\n",
        "\n",
        "    return head, content"
      ],
      "metadata": {
        "id": "mzBws8U_p1Lq"
      },
      "execution_count": 2,
      "outputs": []
    },
    {
      "cell_type": "code",
      "source": [
        "mashup_request = {\"service\":\"Mast.Caom.Filtered\",\n",
        "                  \"format\":\"json\",\n",
        "                  \"params\":{\n",
        "                      \"columns\":\"COUNT_BIG(*)\",\n",
        "                      \"filters\":[\n",
        "                          {\"paramName\":\"instrument_name\",\n",
        "                           \"values\":[\"MIRI/IMAGE\"],},\n",
        "                          {\"paramName\":\"dataRights\",\n",
        "                           \"values\":[\"PUBLIC\"],},\n",
        "                          {\"paramName\":\"calib_level\",\n",
        "                           \"values\":3,}\n",
        "                      ]}}\n",
        "\n",
        "headers2, out_string2 = mast_query(mashup_request)\n",
        "count2 = json.loads(out_string2)"
      ],
      "metadata": {
        "id": "OoDE_Bc5m8lr"
      },
      "execution_count": 3,
      "outputs": []
    },
    {
      "cell_type": "code",
      "source": [
        "mashup_request = {\"service\":\"Mast.Caom.Filtered\",\n",
        "                  \"format\":\"json\",\n",
        "                  \"params\":{\n",
        "                      \"columns\":\"COUNT_BIG(*)\",\n",
        "                      \"filters\":[\n",
        "                          {\"paramName\":\"instrument_name\",\n",
        "                           \"values\":[\"MIRI/IMAGE\"],},\n",
        "                          {\"paramName\":\"dataRights\",\n",
        "                           \"values\":[\"PUBLIC\"],}\n",
        "                      ]}}\n",
        "\n",
        "headers, out_string = mast_query(mashup_request)\n",
        "count = json.loads(out_string)\n",
        "\n",
        "pp.pprint(count)"
      ],
      "metadata": {
        "id": "2LPNpRv2tycz"
      },
      "execution_count": null,
      "outputs": []
    },
    {
      "cell_type": "code",
      "source": [
        "# JWST MIRI Special\n",
        "\n",
        "# Mast.Caom.Filtered is not the only service provided through MAST, JWST MIRI specific Mast.Jwst.Filtered.Miri is one service for MIRI data of JWST\n",
        "\n",
        "mashup_request = {\"service\":\"Mast.Jwst.Filtered.Miri\", # Service is specific for Mid-Infrared INstrument of James Webb Space Telescope\n",
        "                  \"format\":\"json\",\n",
        "                  \"params\":{\n",
        "                      \"columns\":\"*\",  # Retrieves all columns\n",
        "                      \"filters\":[\n",
        "                          {\"paramName\":\"instrume\", # service specific instrument variable\n",
        "                           \"values\":[\"MIRI\"],},\n",
        "                            {\"paramName\":\"subarray\", # type of signal record in subarrays,\n",
        "                           \"values\":[\"SUB256\"]}] # here we chose 256x256 subarray\n",
        "                          }}\n",
        "\n",
        "headers, out_string = mast_query(mashup_request)\n",
        "count = json.loads(out_string)\n",
        "\n",
        "#pp.pprint(count)"
      ],
      "metadata": {
        "id": "9r-XCBemvJta"
      },
      "execution_count": 5,
      "outputs": []
    },
    {
      "cell_type": "code",
      "source": [
        "from astropy.table import Table\n",
        "results = Table(names=('Title', 'Number of Data'), dtype=('str','int32'))\n",
        "\n",
        "lia = [x.get('title',\"\") for x in count[\"data\"]] # This retrieves all Proposals involving this type of data\n",
        "elem = set(lia) # remove duplicates\n",
        "elem = list(elem) # put back no-duplicate set into a list\n",
        "\n",
        "for i in elem:\n",
        "    cou = lia.count(i)\n",
        "    print(i, \"# of appearance: \", cou) # report number of data in each specific proposal with set criteria above\n",
        "    results.add_row([i,cou])\n",
        "\n"
      ],
      "metadata": {
        "id": "TyRKgtUSMcew"
      },
      "execution_count": null,
      "outputs": []
    },
    {
      "cell_type": "code",
      "source": [
        "# Easy-to-look up reporting of the result above\n",
        "\n",
        "results.sort('Number of Data')\n",
        "results.reverse()\n",
        "results.pprint_all(align='<')"
      ],
      "metadata": {
        "id": "j6gfSkbxPg6V"
      },
      "execution_count": null,
      "outputs": []
    },
    {
      "cell_type": "code",
      "source": [
        "# Zooming in on a specific Proposal with assigning something to \"title\" variable, then populating a science_products table and printing all\n",
        "\n",
        "sci_prod_arr = [x for x in count['data'] if x.get(\"title\", None) == 'JWST MIRI Imaging Survey of Planetary-mass Companions: Testing the Compact Disk Hypothesis']\n",
        "science_products = Table()\n",
        "\n",
        "for col, atype in [(x['name'], x['type']) for x in count['fields']]:\n",
        "    if atype==\"string\":\n",
        "        atype=\"str\"\n",
        "    if atype==\"boolean\":\n",
        "        atype=\"bool\"\n",
        "    if atype==\"date\":\n",
        "        atype=\"str\"\n",
        "    if atype == \"int\":\n",
        "        atype = \"float\" # array may contain nan values, and they do not exist in numpy integer arrays\n",
        "    science_products[col] = np.array([x.get(col,None) for x in sci_prod_arr], dtype=atype)\n",
        "\n",
        "print(\"Number of science products:\",len(science_products))\n",
        "science_products.pprint_all()\n"
      ],
      "metadata": {
        "id": "-w7gSy-HUZYg"
      },
      "execution_count": null,
      "outputs": []
    },
    {
      "cell_type": "code",
      "source": [
        "# Bundle downloading the filtered list above\n",
        "\n",
        "url_list = [(\"uri\", url) for url in science_products['dataURI']]\n",
        "extension = \".tar.gz\"\n",
        "\n",
        "download_url = 'https://mast.stsci.edu/api/v0.1/Download/bundle'\n",
        "resp = requests.post(download_url + extension, data=url_list)\n",
        "out_path = \"/content/drive/MyDrive/mastapril/\"\n",
        "\n",
        "out_file = out_path + \"mastDownload\" + extension\n",
        "\n",
        "with open(out_file, 'wb') as FLE:\n",
        "    FLE.write(resp.content)\n",
        "\n",
        "# Sanity check for file\n",
        "if not os.path.isfile(out_file):\n",
        "    print(\"ERROR: \" + out_file + \" failed to download.\")\n",
        "else:\n",
        "    print(\"COMPLETE: \", out_file)"
      ],
      "metadata": {
        "id": "ZoX_6rKmZzo5"
      },
      "execution_count": null,
      "outputs": []
    },
    {
      "cell_type": "code",
      "source": [
        "# Extracting the downloaded tar.gz file to a specific folder\n",
        "\n",
        "import tarfile\n",
        "\n",
        "# open file\n",
        "file = tarfile.open('/content/drive/MyDrive/mastapril/mastaprilmastDownload.tar.gz')\n",
        "\n",
        "# extracting file\n",
        "file.extractall('/content/drive/MyDrive/mastapril/')\n",
        "\n",
        "file.close()"
      ],
      "metadata": {
        "id": "SCY7STJ8bXze"
      },
      "execution_count": null,
      "outputs": []
    }
  ]
}